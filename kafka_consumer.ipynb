{
 "cells": [
  {
   "cell_type": "code",
   "execution_count": 6,
   "id": "ba295cc6-8587-479d-8178-22331d442569",
   "metadata": {},
   "outputs": [
    {
     "name": "stdout",
     "output_type": "stream",
     "text": [
      "Requirement already satisfied: s3fs in /opt/anaconda3/lib/python3.11/site-packages (2023.10.0)\n",
      "Requirement already satisfied: aiobotocore~=2.7.0 in /opt/anaconda3/lib/python3.11/site-packages (from s3fs) (2.7.0)\n",
      "Requirement already satisfied: fsspec==2023.10.0 in /opt/anaconda3/lib/python3.11/site-packages (from s3fs) (2023.10.0)\n",
      "Requirement already satisfied: aiohttp!=4.0.0a0,!=4.0.0a1 in /opt/anaconda3/lib/python3.11/site-packages (from s3fs) (3.9.3)\n",
      "Requirement already satisfied: botocore<1.31.65,>=1.31.16 in /opt/anaconda3/lib/python3.11/site-packages (from aiobotocore~=2.7.0->s3fs) (1.31.64)\n",
      "Requirement already satisfied: wrapt<2.0.0,>=1.10.10 in /opt/anaconda3/lib/python3.11/site-packages (from aiobotocore~=2.7.0->s3fs) (1.14.1)\n",
      "Requirement already satisfied: aioitertools<1.0.0,>=0.5.1 in /opt/anaconda3/lib/python3.11/site-packages (from aiobotocore~=2.7.0->s3fs) (0.7.1)\n",
      "Requirement already satisfied: aiosignal>=1.1.2 in /opt/anaconda3/lib/python3.11/site-packages (from aiohttp!=4.0.0a0,!=4.0.0a1->s3fs) (1.2.0)\n",
      "Requirement already satisfied: attrs>=17.3.0 in /opt/anaconda3/lib/python3.11/site-packages (from aiohttp!=4.0.0a0,!=4.0.0a1->s3fs) (23.1.0)\n",
      "Requirement already satisfied: frozenlist>=1.1.1 in /opt/anaconda3/lib/python3.11/site-packages (from aiohttp!=4.0.0a0,!=4.0.0a1->s3fs) (1.4.0)\n",
      "Requirement already satisfied: multidict<7.0,>=4.5 in /opt/anaconda3/lib/python3.11/site-packages (from aiohttp!=4.0.0a0,!=4.0.0a1->s3fs) (6.0.4)\n",
      "Requirement already satisfied: yarl<2.0,>=1.0 in /opt/anaconda3/lib/python3.11/site-packages (from aiohttp!=4.0.0a0,!=4.0.0a1->s3fs) (1.9.3)\n",
      "Requirement already satisfied: typing_extensions>=3.7 in /opt/anaconda3/lib/python3.11/site-packages (from aioitertools<1.0.0,>=0.5.1->aiobotocore~=2.7.0->s3fs) (4.9.0)\n",
      "Requirement already satisfied: jmespath<2.0.0,>=0.7.1 in /opt/anaconda3/lib/python3.11/site-packages (from botocore<1.31.65,>=1.31.16->aiobotocore~=2.7.0->s3fs) (1.0.1)\n",
      "Requirement already satisfied: python-dateutil<3.0.0,>=2.1 in /opt/anaconda3/lib/python3.11/site-packages (from botocore<1.31.65,>=1.31.16->aiobotocore~=2.7.0->s3fs) (2.8.2)\n",
      "Requirement already satisfied: urllib3<2.1,>=1.25.4 in /opt/anaconda3/lib/python3.11/site-packages (from botocore<1.31.65,>=1.31.16->aiobotocore~=2.7.0->s3fs) (2.0.7)\n",
      "Requirement already satisfied: idna>=2.0 in /opt/anaconda3/lib/python3.11/site-packages (from yarl<2.0,>=1.0->aiohttp!=4.0.0a0,!=4.0.0a1->s3fs) (3.4)\n",
      "Requirement already satisfied: six>=1.5 in /opt/anaconda3/lib/python3.11/site-packages (from python-dateutil<3.0.0,>=2.1->botocore<1.31.65,>=1.31.16->aiobotocore~=2.7.0->s3fs) (1.16.0)\n",
      "Note: you may need to restart the kernel to use updated packages.\n"
     ]
    }
   ],
   "source": [
    "pip install s3fs"
   ]
  },
  {
   "cell_type": "code",
   "execution_count": 8,
   "id": "5945c6e1-a3ca-4d91-a4da-5d213d7de306",
   "metadata": {},
   "outputs": [],
   "source": [
    "from kafka import KafkaConsumer\n",
    "from time import sleep\n",
    "from json import dumps,loads\n",
    "import json\n",
    "from s3fs import S3FileSystem"
   ]
  },
  {
   "cell_type": "code",
   "execution_count": 9,
   "id": "626f1d5a-c8f0-46a1-a486-506b3e35c026",
   "metadata": {},
   "outputs": [],
   "source": [
    "consumer = KafkaConsumer(\n",
    "    'demo_test2',\n",
    "     bootstrap_servers=['3.90.5.80:9092'],\n",
    "    value_deserializer=lambda x: loads(x.decode('utf-8')))"
   ]
  },
  {
   "cell_type": "code",
   "execution_count": 4,
   "id": "b986b7c8-ff9f-4ac6-8250-4d2a4f4866dd",
   "metadata": {},
   "outputs": [
    {
     "name": "stdout",
     "output_type": "stream",
     "text": [
      "{'Index': 'SSMI', 'Date': '1996-07-03', 'Open': 3751.0, 'High': 3760.899902, 'Low': 3731.0, 'Close': 3757.0, 'Adj Close': 3757.0, 'Volume': 0.0, 'CloseUSD': 4170.27}\n",
      "{'Index': 'SSMI', 'Date': '2005-01-19', 'Open': 5754.799805, 'High': 5770.200195, 'Low': 5742.700195, 'Close': 5749.5, 'Adj Close': 5749.5, 'Volume': 50359400.0, 'CloseUSD': 6381.945000000001}\n",
      "{'Index': '000001.SS', 'Date': '2009-01-19', 'Open': 1971.0, 'High': 2018.51001, 'Low': 1966.187988, 'Close': 1986.671997, 'Adj Close': 1986.671997, 'Volume': 109400.0, 'CloseUSD': 317.86751952}\n",
      "{'Index': 'TWII', 'Date': '2009-01-08', 'Open': 4670.620117, 'High': 4687.399902, 'Low': 4532.740234, 'Close': 4535.790039, 'Adj Close': 4535.772949, 'Volume': 3958600.0, 'CloseUSD': 181.43160156}\n",
      "{'Index': 'N100', 'Date': '2000-06-15', 'Open': 1072.670044, 'High': 1072.670044, 'Low': 1072.670044, 'Close': 1072.670044, 'Adj Close': 1072.670044, 'Volume': 0.0, 'CloseUSD': 1308.65745368}\n",
      "{'Index': 'TWII', 'Date': '1999-12-14', 'Open': 7921.200195, 'High': 7932.470215, 'Low': 7841.819824, 'Close': 7850.140137, 'Adj Close': 7850.11084, 'Volume': 0.0, 'CloseUSD': 314.00560548000004}\n",
      "{'Index': '000001.SS', 'Date': '2020-09-16', 'Open': 3293.167969, 'High': 3302.456055, 'Low': 3271.074951, 'Close': 3283.924072, 'Adj Close': 3283.924072, 'Volume': 200400.0, 'CloseUSD': 525.42785152}\n",
      "{'Index': 'GDAXI', 'Date': '2012-03-06', 'Open': 6835.970215, 'High': 6840.330078, 'Low': 6633.109863, 'Close': 6633.109863, 'Adj Close': 6633.109863, 'Volume': 216447500.0, 'CloseUSD': 8092.394032859999}\n",
      "{'Index': 'GSPTSE', 'Date': '1991-03-28', 'Open': 3494.100098, 'High': 3497.399902, 'Low': 3489.300049, 'Close': 3495.699951, 'Adj Close': 3486.82251, 'Volume': 23950000.0, 'CloseUSD': 2901.43095933}\n",
      "{'Index': 'SSMI', 'Date': '1997-07-14', 'Open': 5801.100098, 'High': 5892.700195, 'Low': 5801.100098, 'Close': 5845.799805, 'Adj Close': 5845.799805, 'Volume': 0.0, 'CloseUSD': 6488.8377835500005}\n",
      "{'Index': 'NSEI', 'Date': '2019-02-21', 'Open': 10744.09961, 'High': 10808.84961, 'Low': 10721.5, 'Close': 10789.84961, 'Adj Close': 10789.84961, 'Volume': 279600.0, 'CloseUSD': 107.8984961}\n",
      "{'Index': 'NYA', 'Date': '2016-12-12', 'Open': 11200.19043, 'High': 11227.29981, 'Low': 11163.2002, 'Close': 11177.28027, 'Adj Close': 11177.28027, 'Volume': 4034510000.0, 'CloseUSD': 11177.28027}\n",
      "{'Index': 'GDAXI', 'Date': '1997-01-13', 'Open': 2938.840088, 'High': 2960.75, 'Low': 2937.139893, 'Close': 2956.780029, 'Adj Close': 2956.780029, 'Volume': 0.0, 'CloseUSD': 3607.27163538}\n",
      "{'Index': 'NYA', 'Date': '2021-04-15', 'Open': 16000.15039, 'High': 16123.46973, 'Low': 16000.15039, 'Close': 16116.84961, 'Adj Close': 16116.84961, 'Volume': 4027680000.0, 'CloseUSD': 16116.84961}\n",
      "{'Index': 'HSI', 'Date': '2016-04-18', 'Open': 21129.67969, 'High': 21172.0, 'Low': 21002.76953, 'Close': 21161.5, 'Adj Close': 21161.5, 'Volume': 1426843200.0, 'CloseUSD': 2750.995}\n",
      "{'Index': 'N225', 'Date': '2010-08-09', 'Open': 9535.509766, 'High': 9572.830078, 'Low': 9523.629883, 'Close': 9572.490234, 'Adj Close': 9572.490234, 'Volume': 87800000.0, 'CloseUSD': 95.72490234}\n",
      "{'Index': 'N225', 'Date': '1978-08-18', 'Open': 5495.560059, 'High': 5495.560059, 'Low': 5495.560059, 'Close': 5495.560059, 'Adj Close': 5495.560059, 'Volume': 0.0, 'CloseUSD': 54.95560059}\n",
      "{'Index': 'N225', 'Date': '1996-02-26', 'Open': 20294.30078, 'High': 20480.26953, 'Low': 20294.30078, 'Close': 20480.26953, 'Adj Close': 20480.26953, 'Volume': 0.0, 'CloseUSD': 204.8026953}\n",
      "{'Index': 'GSPTSE', 'Date': '2005-08-08', 'Open': 10602.79981, 'High': 10682.90039, 'Low': 10550.5, 'Close': 10614.40039, 'Adj Close': 10614.40039, 'Volume': 14649090000.0, 'CloseUSD': 8809.9523237}\n",
      "{'Index': 'N225', 'Date': '1988-02-26', 'Open': 25165.17969, 'High': 25165.17969, 'Low': 25165.17969, 'Close': 25165.17969, 'Adj Close': 25165.17969, 'Volume': 0.0, 'CloseUSD': 251.6517969}\n",
      "{'Index': 'GDAXI', 'Date': '1991-01-22', 'Open': 1373.910034, 'High': 1373.910034, 'Low': 1373.910034, 'Close': 1373.910034, 'Adj Close': 1373.910034, 'Volume': 0.0, 'CloseUSD': 1676.17024148}\n",
      "{'Index': 'GDAXI', 'Date': '1996-11-14', 'Open': 2783.76001, 'High': 2789.939941, 'Low': 2767.77002, 'Close': 2784.389893, 'Adj Close': 2784.389893, 'Volume': 0.0, 'CloseUSD': 3396.95566946}\n",
      "{'Index': 'HSI', 'Date': '1995-11-28', 'Open': 9542.5, 'High': 9628.200195, 'Low': 9542.5, 'Close': 9623.799805, 'Adj Close': 9623.799805, 'Volume': 0.0, 'CloseUSD': 1251.09397465}\n",
      "{'Index': 'SSMI', 'Date': '2007-05-30', 'Open': 9343.0, 'High': 9382.799805, 'Low': 9303.0, 'Close': 9382.799805, 'Adj Close': 9382.799805, 'Volume': 61979800.0, 'CloseUSD': 10414.90778355}\n",
      "{'Index': 'N100', 'Date': '2000-01-04', 'Open': 955.969971, 'High': 955.969971, 'Low': 955.969971, 'Close': 955.969971, 'Adj Close': 955.969971, 'Volume': 0.0, 'CloseUSD': 1166.28336462}\n",
      "{'Index': 'HSI', 'Date': '1988-11-02', 'Open': 2607.800049, 'High': 2607.800049, 'Low': 2607.800049, 'Close': 2607.800049, 'Adj Close': 2607.800049, 'Volume': 0.0, 'CloseUSD': 339.01400637}\n",
      "{'Index': 'SSMI', 'Date': '2009-01-12', 'Open': 5657.100098, 'High': 5666.819824, 'Low': 5588.180176, 'Close': 5591.790039, 'Adj Close': 5591.790039, 'Volume': 68473600.0, 'CloseUSD': 6206.886943290001}\n",
      "{'Index': 'N225', 'Date': '2021-02-25', 'Open': 30077.26953, 'High': 30213.2793, 'Low': 30044.42969, 'Close': 30168.26953, 'Adj Close': 30168.26953, 'Volume': 70100000.0, 'CloseUSD': 301.68269530000003}\n",
      "{'Index': 'NYA', 'Date': '2017-01-19', 'Open': 11195.83008, 'High': 11203.37012, 'Low': 11118.46973, 'Close': 11148.84961, 'Adj Close': 11148.84961, 'Volume': 3165970000.0, 'CloseUSD': 11148.84961}\n",
      "{'Index': 'GDAXI', 'Date': '2003-04-29', 'Open': 2958.120117, 'High': 3004.790039, 'Low': 2908.959961, 'Close': 2908.959961, 'Adj Close': 2908.959961, 'Volume': 114598700.0, 'CloseUSD': 3548.93115242}\n",
      "{'Index': 'IXIC', 'Date': '1995-07-19', 'Open': 988.530029, 'High': 988.530029, 'Low': 936.969971, 'Close': 952.869995, 'Adj Close': 952.869995, 'Volume': 597910000.0, 'CloseUSD': 952.869995}\n",
      "{'Index': 'NYA', 'Date': '2017-01-13', 'Open': 11218.04981, 'High': 11244.32031, 'Low': 11212.08008, 'Close': 11227.16992, 'Adj Close': 11227.16992, 'Volume': 3081270000.0, 'CloseUSD': 11227.16992}\n",
      "{'Index': 'IXIC', 'Date': '2001-04-30', 'Open': 2113.110107, 'High': 2159.080078, 'Low': 2097.580078, 'Close': 2116.23999, 'Adj Close': 2116.23999, 'Volume': 2027180000.0, 'CloseUSD': 2116.23999}\n",
      "{'Index': 'N225', 'Date': '1995-09-18', 'Open': 18780.60938, 'High': 18847.89063, 'Low': 18319.16016, 'Close': 18319.16016, 'Adj Close': 18319.16016, 'Volume': 0.0, 'CloseUSD': 183.1916016}\n",
      "{'Index': 'SSMI', 'Date': '1999-01-08', 'Open': 7593.399902, 'High': 7661.700195, 'Low': 7582.700195, 'Close': 7633.700195, 'Adj Close': 7633.700195, 'Volume': 0.0, 'CloseUSD': 8473.407216450001}\n",
      "{'Index': 'NSEI', 'Date': '2011-01-31', 'Open': 5452.549805, 'High': 5526.850098, 'Low': 5416.649902, 'Close': 5505.899902, 'Adj Close': 5505.899902, 'Volume': 0.0, 'CloseUSD': 55.05899902}\n",
      "{'Index': 'GSPTSE', 'Date': '1986-02-03', 'Open': 2840.699951, 'High': 2843.100098, 'Low': 2832.199951, 'Close': 2842.899902, 'Adj Close': 2835.68042, 'Volume': 17060000.0, 'CloseUSD': 2359.60691866}\n",
      "{'Index': 'GSPTSE', 'Date': '2004-12-22', 'Open': 9222.400391, 'High': 9259.700195, 'Low': 9216.299805, 'Close': 9251.200195, 'Adj Close': 9251.200195, 'Volume': 9153680000.0, 'CloseUSD': 7678.496161849999}\n",
      "{'Index': 'N100', 'Date': '2008-10-06', 'Open': 669.299988, 'High': 671.659973, 'Low': 634.820007, 'Close': 639.900024, 'Adj Close': 639.900024, 'Volume': 548857000.0, 'CloseUSD': 780.67802928}\n"
     ]
    },
    {
     "ename": "KeyboardInterrupt",
     "evalue": "",
     "output_type": "error",
     "traceback": [
      "\u001b[0;31m---------------------------------------------------------------------------\u001b[0m",
      "\u001b[0;31mKeyboardInterrupt\u001b[0m                         Traceback (most recent call last)",
      "Cell \u001b[0;32mIn[4], line 1\u001b[0m\n\u001b[0;32m----> 1\u001b[0m \u001b[38;5;28;01mfor\u001b[39;00m c \u001b[38;5;129;01min\u001b[39;00m consumer:\n\u001b[1;32m      2\u001b[0m     \u001b[38;5;28mprint\u001b[39m(c\u001b[38;5;241m.\u001b[39mvalue)\n",
      "File \u001b[0;32m/opt/anaconda3/lib/python3.11/site-packages/kafka/consumer/group.py:1193\u001b[0m, in \u001b[0;36mKafkaConsumer.__next__\u001b[0;34m(self)\u001b[0m\n\u001b[1;32m   1191\u001b[0m     \u001b[38;5;28;01mreturn\u001b[39;00m \u001b[38;5;28mself\u001b[39m\u001b[38;5;241m.\u001b[39mnext_v1()\n\u001b[1;32m   1192\u001b[0m \u001b[38;5;28;01melse\u001b[39;00m:\n\u001b[0;32m-> 1193\u001b[0m     \u001b[38;5;28;01mreturn\u001b[39;00m \u001b[38;5;28mself\u001b[39m\u001b[38;5;241m.\u001b[39mnext_v2()\n",
      "File \u001b[0;32m/opt/anaconda3/lib/python3.11/site-packages/kafka/consumer/group.py:1201\u001b[0m, in \u001b[0;36mKafkaConsumer.next_v2\u001b[0;34m(self)\u001b[0m\n\u001b[1;32m   1199\u001b[0m     \u001b[38;5;28mself\u001b[39m\u001b[38;5;241m.\u001b[39m_iterator \u001b[38;5;241m=\u001b[39m \u001b[38;5;28mself\u001b[39m\u001b[38;5;241m.\u001b[39m_message_generator_v2()\n\u001b[1;32m   1200\u001b[0m \u001b[38;5;28;01mtry\u001b[39;00m:\n\u001b[0;32m-> 1201\u001b[0m     \u001b[38;5;28;01mreturn\u001b[39;00m \u001b[38;5;28mnext\u001b[39m(\u001b[38;5;28mself\u001b[39m\u001b[38;5;241m.\u001b[39m_iterator)\n\u001b[1;32m   1202\u001b[0m \u001b[38;5;28;01mexcept\u001b[39;00m \u001b[38;5;167;01mStopIteration\u001b[39;00m:\n\u001b[1;32m   1203\u001b[0m     \u001b[38;5;28mself\u001b[39m\u001b[38;5;241m.\u001b[39m_iterator \u001b[38;5;241m=\u001b[39m \u001b[38;5;28;01mNone\u001b[39;00m\n",
      "File \u001b[0;32m/opt/anaconda3/lib/python3.11/site-packages/kafka/consumer/group.py:1116\u001b[0m, in \u001b[0;36mKafkaConsumer._message_generator_v2\u001b[0;34m(self)\u001b[0m\n\u001b[1;32m   1114\u001b[0m \u001b[38;5;28;01mdef\u001b[39;00m \u001b[38;5;21m_message_generator_v2\u001b[39m(\u001b[38;5;28mself\u001b[39m):\n\u001b[1;32m   1115\u001b[0m     timeout_ms \u001b[38;5;241m=\u001b[39m \u001b[38;5;241m1000\u001b[39m \u001b[38;5;241m*\u001b[39m (\u001b[38;5;28mself\u001b[39m\u001b[38;5;241m.\u001b[39m_consumer_timeout \u001b[38;5;241m-\u001b[39m time\u001b[38;5;241m.\u001b[39mtime())\n\u001b[0;32m-> 1116\u001b[0m     record_map \u001b[38;5;241m=\u001b[39m \u001b[38;5;28mself\u001b[39m\u001b[38;5;241m.\u001b[39mpoll(timeout_ms\u001b[38;5;241m=\u001b[39mtimeout_ms, update_offsets\u001b[38;5;241m=\u001b[39m\u001b[38;5;28;01mFalse\u001b[39;00m)\n\u001b[1;32m   1117\u001b[0m     \u001b[38;5;28;01mfor\u001b[39;00m tp, records \u001b[38;5;129;01min\u001b[39;00m six\u001b[38;5;241m.\u001b[39miteritems(record_map):\n\u001b[1;32m   1118\u001b[0m         \u001b[38;5;66;03m# Generators are stateful, and it is possible that the tp / records\u001b[39;00m\n\u001b[1;32m   1119\u001b[0m         \u001b[38;5;66;03m# here may become stale during iteration -- i.e., we seek to a\u001b[39;00m\n\u001b[1;32m   1120\u001b[0m         \u001b[38;5;66;03m# different offset, pause consumption, or lose assignment.\u001b[39;00m\n\u001b[1;32m   1121\u001b[0m         \u001b[38;5;28;01mfor\u001b[39;00m record \u001b[38;5;129;01min\u001b[39;00m records:\n\u001b[1;32m   1122\u001b[0m             \u001b[38;5;66;03m# is_fetchable(tp) should handle assignment changes and offset\u001b[39;00m\n\u001b[1;32m   1123\u001b[0m             \u001b[38;5;66;03m# resets; for all other changes (e.g., seeks) we'll rely on the\u001b[39;00m\n\u001b[1;32m   1124\u001b[0m             \u001b[38;5;66;03m# outer function destroying the existing iterator/generator\u001b[39;00m\n\u001b[1;32m   1125\u001b[0m             \u001b[38;5;66;03m# via self._iterator = None\u001b[39;00m\n",
      "File \u001b[0;32m/opt/anaconda3/lib/python3.11/site-packages/kafka/consumer/group.py:655\u001b[0m, in \u001b[0;36mKafkaConsumer.poll\u001b[0;34m(self, timeout_ms, max_records, update_offsets)\u001b[0m\n\u001b[1;32m    653\u001b[0m remaining \u001b[38;5;241m=\u001b[39m timeout_ms\n\u001b[1;32m    654\u001b[0m \u001b[38;5;28;01mwhile\u001b[39;00m \u001b[38;5;28;01mTrue\u001b[39;00m:\n\u001b[0;32m--> 655\u001b[0m     records \u001b[38;5;241m=\u001b[39m \u001b[38;5;28mself\u001b[39m\u001b[38;5;241m.\u001b[39m_poll_once(remaining, max_records, update_offsets\u001b[38;5;241m=\u001b[39mupdate_offsets)\n\u001b[1;32m    656\u001b[0m     \u001b[38;5;28;01mif\u001b[39;00m records:\n\u001b[1;32m    657\u001b[0m         \u001b[38;5;28;01mreturn\u001b[39;00m records\n",
      "File \u001b[0;32m/opt/anaconda3/lib/python3.11/site-packages/kafka/consumer/group.py:702\u001b[0m, in \u001b[0;36mKafkaConsumer._poll_once\u001b[0;34m(self, timeout_ms, max_records, update_offsets)\u001b[0m\n\u001b[1;32m    699\u001b[0m     \u001b[38;5;28mself\u001b[39m\u001b[38;5;241m.\u001b[39m_client\u001b[38;5;241m.\u001b[39mpoll(timeout_ms\u001b[38;5;241m=\u001b[39m\u001b[38;5;241m0\u001b[39m)\n\u001b[1;32m    701\u001b[0m timeout_ms \u001b[38;5;241m=\u001b[39m \u001b[38;5;28mmin\u001b[39m(timeout_ms, \u001b[38;5;28mself\u001b[39m\u001b[38;5;241m.\u001b[39m_coordinator\u001b[38;5;241m.\u001b[39mtime_to_next_poll() \u001b[38;5;241m*\u001b[39m \u001b[38;5;241m1000\u001b[39m)\n\u001b[0;32m--> 702\u001b[0m \u001b[38;5;28mself\u001b[39m\u001b[38;5;241m.\u001b[39m_client\u001b[38;5;241m.\u001b[39mpoll(timeout_ms\u001b[38;5;241m=\u001b[39mtimeout_ms)\n\u001b[1;32m    703\u001b[0m \u001b[38;5;66;03m# after the long poll, we should check whether the group needs to rebalance\u001b[39;00m\n\u001b[1;32m    704\u001b[0m \u001b[38;5;66;03m# prior to returning data so that the group can stabilize faster\u001b[39;00m\n\u001b[1;32m    705\u001b[0m \u001b[38;5;28;01mif\u001b[39;00m \u001b[38;5;28mself\u001b[39m\u001b[38;5;241m.\u001b[39m_coordinator\u001b[38;5;241m.\u001b[39mneed_rejoin():\n",
      "File \u001b[0;32m/opt/anaconda3/lib/python3.11/site-packages/kafka/client_async.py:602\u001b[0m, in \u001b[0;36mKafkaClient.poll\u001b[0;34m(self, timeout_ms, future)\u001b[0m\n\u001b[1;32m    599\u001b[0m             timeout \u001b[38;5;241m=\u001b[39m \u001b[38;5;28mmin\u001b[39m(timeout, \u001b[38;5;28mself\u001b[39m\u001b[38;5;241m.\u001b[39mconfig[\u001b[38;5;124m'\u001b[39m\u001b[38;5;124mretry_backoff_ms\u001b[39m\u001b[38;5;124m'\u001b[39m])\n\u001b[1;32m    600\u001b[0m         timeout \u001b[38;5;241m=\u001b[39m \u001b[38;5;28mmax\u001b[39m(\u001b[38;5;241m0\u001b[39m, timeout)  \u001b[38;5;66;03m# avoid negative timeouts\u001b[39;00m\n\u001b[0;32m--> 602\u001b[0m     \u001b[38;5;28mself\u001b[39m\u001b[38;5;241m.\u001b[39m_poll(timeout \u001b[38;5;241m/\u001b[39m \u001b[38;5;241m1000\u001b[39m)\n\u001b[1;32m    604\u001b[0m \u001b[38;5;66;03m# called without the lock to avoid deadlock potential\u001b[39;00m\n\u001b[1;32m    605\u001b[0m \u001b[38;5;66;03m# if handlers need to acquire locks\u001b[39;00m\n\u001b[1;32m    606\u001b[0m responses\u001b[38;5;241m.\u001b[39mextend(\u001b[38;5;28mself\u001b[39m\u001b[38;5;241m.\u001b[39m_fire_pending_completed_requests())\n",
      "File \u001b[0;32m/opt/anaconda3/lib/python3.11/site-packages/kafka/client_async.py:634\u001b[0m, in \u001b[0;36mKafkaClient._poll\u001b[0;34m(self, timeout)\u001b[0m\n\u001b[1;32m    631\u001b[0m \u001b[38;5;28mself\u001b[39m\u001b[38;5;241m.\u001b[39m_register_send_sockets()\n\u001b[1;32m    633\u001b[0m start_select \u001b[38;5;241m=\u001b[39m time\u001b[38;5;241m.\u001b[39mtime()\n\u001b[0;32m--> 634\u001b[0m ready \u001b[38;5;241m=\u001b[39m \u001b[38;5;28mself\u001b[39m\u001b[38;5;241m.\u001b[39m_selector\u001b[38;5;241m.\u001b[39mselect(timeout)\n\u001b[1;32m    635\u001b[0m end_select \u001b[38;5;241m=\u001b[39m time\u001b[38;5;241m.\u001b[39mtime()\n\u001b[1;32m    636\u001b[0m \u001b[38;5;28;01mif\u001b[39;00m \u001b[38;5;28mself\u001b[39m\u001b[38;5;241m.\u001b[39m_sensors:\n",
      "File \u001b[0;32m/opt/anaconda3/lib/python3.11/selectors.py:566\u001b[0m, in \u001b[0;36mKqueueSelector.select\u001b[0;34m(self, timeout)\u001b[0m\n\u001b[1;32m    564\u001b[0m ready \u001b[38;5;241m=\u001b[39m []\n\u001b[1;32m    565\u001b[0m \u001b[38;5;28;01mtry\u001b[39;00m:\n\u001b[0;32m--> 566\u001b[0m     kev_list \u001b[38;5;241m=\u001b[39m \u001b[38;5;28mself\u001b[39m\u001b[38;5;241m.\u001b[39m_selector\u001b[38;5;241m.\u001b[39mcontrol(\u001b[38;5;28;01mNone\u001b[39;00m, max_ev, timeout)\n\u001b[1;32m    567\u001b[0m \u001b[38;5;28;01mexcept\u001b[39;00m \u001b[38;5;167;01mInterruptedError\u001b[39;00m:\n\u001b[1;32m    568\u001b[0m     \u001b[38;5;28;01mreturn\u001b[39;00m ready\n",
      "\u001b[0;31mKeyboardInterrupt\u001b[0m: "
     ]
    }
   ],
   "source": [
    "#for c in consumer:\n",
    " #   print(c.value)"
   ]
  },
  {
   "cell_type": "code",
   "execution_count": 11,
   "id": "6501a513-c1ba-4d11-bfed-68972c2fa133",
   "metadata": {},
   "outputs": [],
   "source": [
    "s3 = S3FileSystem()"
   ]
  },
  {
   "cell_type": "code",
   "execution_count": null,
   "id": "192591b1-e04d-49ba-a5a3-9a5cf90ff90b",
   "metadata": {},
   "outputs": [],
   "source": [
    "for count, i in enumerate(consumer):\n",
    "    with s3.open(\"s3://kafka-stock-market-project-sovit/stock_market_{}.json\".format(count), 'w') as file:\n",
    "        json.dump(i.value, file)  "
   ]
  }
 ],
 "metadata": {
  "kernelspec": {
   "display_name": "Python 3 (ipykernel)",
   "language": "python",
   "name": "python3"
  },
  "language_info": {
   "codemirror_mode": {
    "name": "ipython",
    "version": 3
   },
   "file_extension": ".py",
   "mimetype": "text/x-python",
   "name": "python",
   "nbconvert_exporter": "python",
   "pygments_lexer": "ipython3",
   "version": "3.11.8"
  }
 },
 "nbformat": 4,
 "nbformat_minor": 5
}
